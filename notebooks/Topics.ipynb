{
 "cells": [
  {
   "cell_type": "markdown",
   "id": "572bff9e-373e-4e08-8775-d33846e88ab0",
   "metadata": {},
   "source": [
    "## Search queries from Topics"
   ]
  },
  {
   "cell_type": "markdown",
   "id": "5260447c-0819-4870-b2ee-7f259a96e478",
   "metadata": {},
   "source": [
    "### imports"
   ]
  },
  {
   "cell_type": "code",
   "execution_count": 6,
   "id": "02604a83-1a9b-4d45-af0b-fd2bcf8f7cd1",
   "metadata": {},
   "outputs": [],
   "source": [
    "from elasticsearch import Elasticsearch\n",
    "from credentials import username, password\n",
    "from ElasticSettings.topics import create_run, create_eval\n",
    "import pandas as pd"
   ]
  },
  {
   "cell_type": "markdown",
   "id": "845d5ffc-46cb-421d-bb70-9c7a60b251e2",
   "metadata": {},
   "source": [
    "### Read information need from xlm file"
   ]
  },
  {
   "cell_type": "markdown",
   "id": "40535765-647a-46d6-b9c7-286e2266734b",
   "metadata": {},
   "source": [
    "### Get elasticsearch instance"
   ]
  },
  {
   "cell_type": "code",
   "execution_count": 7,
   "id": "69eb6e02-3c5e-4844-975c-a19d99eafbc7",
   "metadata": {},
   "outputs": [],
   "source": [
    "es = Elasticsearch(\"http://localhost:9200\",\n",
    "                   basic_auth=(username, password))"
   ]
  },
  {
   "cell_type": "code",
   "execution_count": 8,
   "id": "e179244b",
   "metadata": {},
   "outputs": [],
   "source": [
    "topics_path = \"data/topics-rnd5_covid-complete.xml\"\n",
    "qrels_path = \"data/qrels-covid_d5_j0.5-5_covid-complete.txt\""
   ]
  },
  {
   "cell_type": "code",
   "execution_count": 9,
   "id": "0d1c72a6",
   "metadata": {},
   "outputs": [],
   "source": [
    "topics = pd.read_xml(topics_path)"
   ]
  },
  {
   "cell_type": "code",
   "execution_count": 4,
   "id": "8eb97961",
   "metadata": {},
   "outputs": [],
   "source": [
    "run_path = create_run(topics_path=topics_path, es=es, index=\"test_index\")\n",
    "create_eval(qrels_path, run_path=f\"data/runs/{run_path}\")"
   ]
  },
  {
   "cell_type": "code",
   "execution_count": 15,
   "id": "45577267-81ff-4278-b591-494e6f76dbf6",
   "metadata": {},
   "outputs": [],
   "source": [
    "def get_q(search_text: str):\n",
    "    q = {\n",
    "        \"query\": {\n",
    "                \"query\": f\"{search_text}\"\n",
    "            }\n",
    "        }\n",
    "        \n",
    "\n",
    "    return q\n",
    "\n",
    "run = \"test\"\n",
    "with open(f\"runs/{run}.txt\", \"w\") as f:\n",
    "    for idx, doc in topics.iterrows():\n",
    "        result = es.search(index=\"test_index\",  q=doc[\"query\"], size=1000)\n",
    "        hits = result[\"hits\"][\"hits\"]\n",
    "\n",
    "        for rank, hit in enumerate(hits):\n",
    "            f.write(\" \".join([str(idx), str(0), hit[\"_source\"][\"cord_uid\"], str(rank), str(hit[\"_score\"]), run, \"\\n\"]))"
   ]
  },
  {
   "cell_type": "code",
   "execution_count": null,
   "id": "48d6dea7",
   "metadata": {},
   "outputs": [],
   "source": []
  }
 ],
 "metadata": {
  "kernelspec": {
   "display_name": ".elastic_env",
   "language": "python",
   "name": "python3"
  },
  "language_info": {
   "codemirror_mode": {
    "name": "ipython",
    "version": 3
   },
   "file_extension": ".py",
   "mimetype": "text/x-python",
   "name": "python",
   "nbconvert_exporter": "python",
   "pygments_lexer": "ipython3",
   "version": "3.10.7"
  },
  "vscode": {
   "interpreter": {
    "hash": "05fd01de46d511c84e948efa3a69fa23eace11a5a6fdd0afae04e13f421d70ce"
   }
  }
 },
 "nbformat": 4,
 "nbformat_minor": 5
}
