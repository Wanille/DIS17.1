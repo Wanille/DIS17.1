{
 "cells": [
  {
   "cell_type": "markdown",
   "id": "af8f18a2-5ec5-4c73-9fc1-aebbd0ef9ea9",
   "metadata": {},
   "source": [
    "## Elasticsearch indexing"
   ]
  },
  {
   "cell_type": "markdown",
   "id": "cd59bc2b-8117-457b-af52-c2f5e246aec4",
   "metadata": {},
   "source": [
    "### Please Read\n",
    "Before starting this notebook for the first time please follow the instructions in the [README.md](./README.md) file"
   ]
  },
  {
   "cell_type": "markdown",
   "id": "e5c319bc-0dba-4af0-a8f7-e840e2743bd1",
   "metadata": {},
   "source": [
    "### Import necessary packages\n",
    "besides importing the packages needed we also import our password and username from the [credentials.py](./credentials.py) file"
   ]
  },
  {
   "cell_type": "code",
   "execution_count": null,
   "id": "903101f8-ba74-4c8e-8165-883e113d6cab",
   "metadata": {},
   "outputs": [],
   "source": [
    "from elasticsearch import Elasticsearch\n",
    "import pandas as pd\n",
    "from credentials import username, password"
   ]
  },
  {
   "cell_type": "markdown",
   "id": "ce16edac-0a6e-4990-90a6-b5ff3729d30a",
   "metadata": {},
   "source": [
    "Create a new connection to our elasticsearch server"
   ]
  },
  {
   "cell_type": "code",
   "execution_count": null,
   "id": "2b9f30af-b96f-4f98-affb-f8a8f8cb4a55",
   "metadata": {},
   "outputs": [],
   "source": [
    "es = Elasticsearch(\n",
    "    \"http://localhost:9200\",\n",
    "    basic_auth=(username, password)\n",
    ")"
   ]
  },
  {
   "cell_type": "markdown",
   "id": "7c83ec6a-8baf-47c2-9409-868da49f134d",
   "metadata": {},
   "source": [
    "Index a very simple document"
   ]
  },
  {
   "cell_type": "code",
   "execution_count": null,
   "id": "9085d3ba-562d-45b3-8f32-11981eb15393",
   "metadata": {},
   "outputs": [],
   "source": [
    "doc = {\n",
    "    'works': True\n",
    "}\n",
    "resp = es.index(index=\"test-index\", id=1, document=doc)\n",
    "print(resp['result'])"
   ]
  },
  {
   "cell_type": "markdown",
   "id": "9505bb4a-418b-4c35-8366-3b135051e3ff",
   "metadata": {},
   "source": [
    "Get document from elasticsearch"
   ]
  },
  {
   "cell_type": "code",
   "execution_count": null,
   "id": "111a9eae-b5aa-4aaf-a276-ee3fa6ce4f6e",
   "metadata": {},
   "outputs": [],
   "source": [
    "resp = es.get(index=\"test-index\", id=1)\n",
    "if resp['_source'][\"works\"] == True:\n",
    "    print(\"YESSSS Elasticsearch works :)\")"
   ]
  },
  {
   "cell_type": "markdown",
   "id": "8139bc8f-f223-400d-a612-415c29628153",
   "metadata": {},
   "source": [
    "## Further steps"
   ]
  },
  {
   "cell_type": "markdown",
   "id": "848b9bff-7d57-4ba7-93d3-a768e589d412",
   "metadata": {},
   "source": [
    "To learn more about the elasticsearch python library read the [docs](https://elasticsearch-py.readthedocs.io/en/v8.4.3/index.html) :)"
   ]
  }
 ],
 "metadata": {
  "kernelspec": {
   "display_name": ".elastic_env",
   "language": "python",
   "name": ".elastic_env"
  },
  "language_info": {
   "codemirror_mode": {
    "name": "ipython",
    "version": 3
   },
   "file_extension": ".py",
   "mimetype": "text/x-python",
   "name": "python",
   "nbconvert_exporter": "python",
   "pygments_lexer": "ipython3",
   "version": "3.10.6"
  }
 },
 "nbformat": 4,
 "nbformat_minor": 5
}
