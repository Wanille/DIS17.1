{
 "cells": [
  {
   "cell_type": "markdown",
   "id": "572bff9e-373e-4e08-8775-d33846e88ab0",
   "metadata": {},
   "source": [
    "## Search queries from Topics"
   ]
  },
  {
   "cell_type": "markdown",
   "id": "5260447c-0819-4870-b2ee-7f259a96e478",
   "metadata": {},
   "source": [
    "### imports"
   ]
  },
  {
   "cell_type": "code",
   "execution_count": 1,
   "id": "02604a83-1a9b-4d45-af0b-fd2bcf8f7cd1",
   "metadata": {},
   "outputs": [],
   "source": [
    "from elasticsearch import Elasticsearch\n",
    "from credentials import username, password\n",
    "from ElasticSettings.topics import create_run, create_eval"
   ]
  },
  {
   "cell_type": "markdown",
   "id": "845d5ffc-46cb-421d-bb70-9c7a60b251e2",
   "metadata": {},
   "source": [
    "### Read information need from xlm file"
   ]
  },
  {
   "cell_type": "markdown",
   "id": "40535765-647a-46d6-b9c7-286e2266734b",
   "metadata": {},
   "source": [
    "### Get elasticsearch instance"
   ]
  },
  {
   "cell_type": "code",
   "execution_count": 2,
   "id": "69eb6e02-3c5e-4844-975c-a19d99eafbc7",
   "metadata": {},
   "outputs": [],
   "source": [
    "es = Elasticsearch(\"http://localhost:9200\",\n",
    "                   basic_auth=(username, password))"
   ]
  },
  {
   "cell_type": "code",
   "execution_count": 3,
   "id": "e179244b",
   "metadata": {},
   "outputs": [],
   "source": [
    "topics_path = \"data/topics-rnd5_covid-complete.xml\"\n",
    "qrels_path = \"data/qrels-covid_d5_j0.5-5_covid-complete.txt\""
   ]
  },
  {
   "cell_type": "code",
   "execution_count": 4,
   "id": "8eb97961",
   "metadata": {},
   "outputs": [],
   "source": [
    "run_path = create_run(topics_path=topics_path, es=es, index=\"test_index\")\n",
    "create_eval(qrels_path, run_path=f\"data/runs/{run_path}\")"
   ]
  },
  {
   "cell_type": "code",
   "execution_count": null,
   "id": "45577267-81ff-4278-b591-494e6f76dbf6",
   "metadata": {},
   "outputs": [
    {
     "ename": "SyntaxError",
     "evalue": "'{' was never closed (1076083206.py, line 3)",
     "output_type": "error",
     "traceback": [
      "\u001b[0;36m  Cell \u001b[0;32mIn [2], line 3\u001b[0;36m\u001b[0m\n",
      "\u001b[0;31m    \"function_score\": {\u001b[0m\n",
      "\u001b[0m                      ^\u001b[0m\n",
      "\u001b[0;31mSyntaxError\u001b[0m\u001b[0;31m:\u001b[0m '{' was never closed\n"
     ]
    }
   ],
   "source": [
    "def get_q(search_text: str):\n",
    "    q = {\n",
    "        \"function_score\": {\n",
    "        \"query\": {\n",
    "            \"multi_match\": {\n",
    "                    \"query\": f\"{search_text}\",\n",
    "                    \"type\": \"cross_fields\",\n",
    "                    \"fields\": [\n",
    "                        \"source_x\",\n",
    "                        \"title^3\",\n",
    "                        \"abstract^2\",\n",
    "                        \"journal\",\n",
    "                        \"authors\"\n",
    "                ]},\n",
    "            \"functions\": [\n",
    "                {\n",
    "                    \"gauss\": {\n",
    "                    \"publish_time\": {\n",
    "                        \"origin\": datetime.strftime(datetime.now(), \"%Y-%m-%d\"),\n",
    "                        \"scale\": \"100Y\",\n",
    "                        \"offset\": \"3Y\",\n",
    "                        \"decay\": 0.2\n",
    "                    }\n",
    "                }}]\n",
    "            }\n",
    "        }}\n",
    "        \n",
    "\n",
    "    return q\n",
    "\n",
    "run = \"no_operator\" + datetime.strftime(datetime.now(), \"%d.%m-%H:%M\")\n",
    "with open(f\"data/runs/{run}.txt\", \"w\") as f:\n",
    "    for idx, doc in topics.iterrows():\n",
    "        q = get_q(doc[\"query\"])\n",
    "        result = es.search(index=\"test\", body=q, size=1000)\n",
    "        hits = result[\"hits\"][\"hits\"]\n",
    "\n",
    "        for rank, hit in enumerate(hits):\n",
    "            f.write(\" \".join([str(idx), str(0), hit[\"_source\"][\"cord_uid\"], str(rank), str(hit[\"_score\"]), run, \"\\n\"]))"
   ]
  }
 ],
 "metadata": {
  "kernelspec": {
   "display_name": ".elastic_env",
   "language": "python",
   "name": ".elastic_env"
  },
  "language_info": {
   "codemirror_mode": {
    "name": "ipython",
    "version": 3
   },
   "file_extension": ".py",
   "mimetype": "text/x-python",
   "name": "python",
   "nbconvert_exporter": "python",
   "pygments_lexer": "ipython3",
   "version": "3.10.7"
  }
 },
 "nbformat": 4,
 "nbformat_minor": 5
}
