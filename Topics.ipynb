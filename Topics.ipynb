{
 "cells": [
  {
   "cell_type": "markdown",
   "id": "572bff9e-373e-4e08-8775-d33846e88ab0",
   "metadata": {},
   "source": [
    "## Search queries from Topics"
   ]
  },
  {
   "cell_type": "markdown",
   "id": "5260447c-0819-4870-b2ee-7f259a96e478",
   "metadata": {},
   "source": [
    "### imports"
   ]
  },
  {
   "cell_type": "code",
   "execution_count": 6,
   "id": "02604a83-1a9b-4d45-af0b-fd2bcf8f7cd1",
   "metadata": {},
   "outputs": [],
   "source": [
    "import pandas as pd\n",
    "from elasticsearch import Elasticsearch\n",
    "from credentials import username, password"
   ]
  },
  {
   "cell_type": "markdown",
   "id": "845d5ffc-46cb-421d-bb70-9c7a60b251e2",
   "metadata": {},
   "source": [
    "### Read information need from xlm file"
   ]
  },
  {
   "cell_type": "code",
   "execution_count": 7,
   "id": "a5c7f8c2-3046-449d-b5d4-fc10d6dd1cd8",
   "metadata": {},
   "outputs": [],
   "source": [
    "xml_filepath = \"data/topics-rnd5_covid-complete.xml\"\n",
    "topics = pd.read_xml(xml_filepath)"
   ]
  },
  {
   "cell_type": "code",
   "execution_count": 8,
   "id": "7845e61b-ff77-4675-a623-c644e7906b8b",
   "metadata": {},
   "outputs": [],
   "source": [
    "# set index to number\n",
    "topics.set_index(\"number\", inplace=True)"
   ]
  },
  {
   "cell_type": "code",
   "execution_count": 9,
   "id": "6660bcd3-d021-473e-b059-2234bd61a305",
   "metadata": {},
   "outputs": [
    {
     "data": {
      "text/html": [
       "<div>\n",
       "<style scoped>\n",
       "    .dataframe tbody tr th:only-of-type {\n",
       "        vertical-align: middle;\n",
       "    }\n",
       "\n",
       "    .dataframe tbody tr th {\n",
       "        vertical-align: top;\n",
       "    }\n",
       "\n",
       "    .dataframe thead th {\n",
       "        text-align: right;\n",
       "    }\n",
       "</style>\n",
       "<table border=\"1\" class=\"dataframe\">\n",
       "  <thead>\n",
       "    <tr style=\"text-align: right;\">\n",
       "      <th></th>\n",
       "      <th>query</th>\n",
       "      <th>question</th>\n",
       "      <th>narrative</th>\n",
       "    </tr>\n",
       "    <tr>\n",
       "      <th>number</th>\n",
       "      <th></th>\n",
       "      <th></th>\n",
       "      <th></th>\n",
       "    </tr>\n",
       "  </thead>\n",
       "  <tbody>\n",
       "    <tr>\n",
       "      <th>1</th>\n",
       "      <td>coronavirus origin</td>\n",
       "      <td>what is the origin of COVID-19</td>\n",
       "      <td>seeking range of information about the SARS-Co...</td>\n",
       "    </tr>\n",
       "    <tr>\n",
       "      <th>2</th>\n",
       "      <td>coronavirus response to weather changes</td>\n",
       "      <td>how does the coronavirus respond to changes in...</td>\n",
       "      <td>seeking range of information about the SARS-Co...</td>\n",
       "    </tr>\n",
       "    <tr>\n",
       "      <th>3</th>\n",
       "      <td>coronavirus immunity</td>\n",
       "      <td>will SARS-CoV2 infected people develop immunit...</td>\n",
       "      <td>seeking studies of immunity developed due to i...</td>\n",
       "    </tr>\n",
       "    <tr>\n",
       "      <th>4</th>\n",
       "      <td>how do people die from the coronavirus</td>\n",
       "      <td>what causes death from Covid-19?</td>\n",
       "      <td>Studies looking at mechanisms of death from Co...</td>\n",
       "    </tr>\n",
       "    <tr>\n",
       "      <th>5</th>\n",
       "      <td>animal models of COVID-19</td>\n",
       "      <td>what drugs have been active against SARS-CoV o...</td>\n",
       "      <td>Papers that describe the results  of testing d...</td>\n",
       "    </tr>\n",
       "    <tr>\n",
       "      <th>6</th>\n",
       "      <td>coronavirus test rapid testing</td>\n",
       "      <td>what types of rapid testing for Covid-19 have ...</td>\n",
       "      <td>Looking for studies identifying ways to diagno...</td>\n",
       "    </tr>\n",
       "    <tr>\n",
       "      <th>7</th>\n",
       "      <td>serological tests for coronavirus</td>\n",
       "      <td>are there serological tests that detect antibo...</td>\n",
       "      <td>Looking for assays that measure immune respons...</td>\n",
       "    </tr>\n",
       "    <tr>\n",
       "      <th>8</th>\n",
       "      <td>coronavirus under reporting</td>\n",
       "      <td>how has lack of testing availability led to un...</td>\n",
       "      <td>Looking for studies answering questions of imp...</td>\n",
       "    </tr>\n",
       "    <tr>\n",
       "      <th>9</th>\n",
       "      <td>coronavirus in Canada</td>\n",
       "      <td>how has COVID-19 affected Canada</td>\n",
       "      <td>seeking data related to infections (confirm, s...</td>\n",
       "    </tr>\n",
       "    <tr>\n",
       "      <th>10</th>\n",
       "      <td>coronavirus social distancing impact</td>\n",
       "      <td>has social distancing had an impact on slowing...</td>\n",
       "      <td>seeking specific information on studies that h...</td>\n",
       "    </tr>\n",
       "  </tbody>\n",
       "</table>\n",
       "</div>"
      ],
      "text/plain": [
       "                                          query  \\\n",
       "number                                            \n",
       "1                            coronavirus origin   \n",
       "2       coronavirus response to weather changes   \n",
       "3                          coronavirus immunity   \n",
       "4        how do people die from the coronavirus   \n",
       "5                     animal models of COVID-19   \n",
       "6                coronavirus test rapid testing   \n",
       "7             serological tests for coronavirus   \n",
       "8                   coronavirus under reporting   \n",
       "9                         coronavirus in Canada   \n",
       "10         coronavirus social distancing impact   \n",
       "\n",
       "                                                 question  \\\n",
       "number                                                      \n",
       "1                          what is the origin of COVID-19   \n",
       "2       how does the coronavirus respond to changes in...   \n",
       "3       will SARS-CoV2 infected people develop immunit...   \n",
       "4                        what causes death from Covid-19?   \n",
       "5       what drugs have been active against SARS-CoV o...   \n",
       "6       what types of rapid testing for Covid-19 have ...   \n",
       "7       are there serological tests that detect antibo...   \n",
       "8       how has lack of testing availability led to un...   \n",
       "9                        how has COVID-19 affected Canada   \n",
       "10      has social distancing had an impact on slowing...   \n",
       "\n",
       "                                                narrative  \n",
       "number                                                     \n",
       "1       seeking range of information about the SARS-Co...  \n",
       "2       seeking range of information about the SARS-Co...  \n",
       "3       seeking studies of immunity developed due to i...  \n",
       "4       Studies looking at mechanisms of death from Co...  \n",
       "5       Papers that describe the results  of testing d...  \n",
       "6       Looking for studies identifying ways to diagno...  \n",
       "7       Looking for assays that measure immune respons...  \n",
       "8       Looking for studies answering questions of imp...  \n",
       "9       seeking data related to infections (confirm, s...  \n",
       "10      seeking specific information on studies that h...  "
      ]
     },
     "execution_count": 9,
     "metadata": {},
     "output_type": "execute_result"
    }
   ],
   "source": [
    "topics.head(10)"
   ]
  },
  {
   "cell_type": "markdown",
   "id": "40535765-647a-46d6-b9c7-286e2266734b",
   "metadata": {},
   "source": [
    "### Get elasticsearch instance"
   ]
  },
  {
   "cell_type": "code",
   "execution_count": 10,
   "id": "69eb6e02-3c5e-4844-975c-a19d99eafbc7",
   "metadata": {},
   "outputs": [],
   "source": [
    "es = Elasticsearch(\"http://localhost:9200\",\n",
    "                   basic_auth=(username, password))"
   ]
  },
  {
   "cell_type": "code",
   "execution_count": 11,
   "id": "c6464b08-3d54-452e-bdb0-cf9289e33f52",
   "metadata": {},
   "outputs": [],
   "source": [
    "from datetime import datetime"
   ]
  },
  {
   "cell_type": "code",
   "execution_count": 15,
   "id": "45577267-81ff-4278-b591-494e6f76dbf6",
   "metadata": {},
   "outputs": [
    {
     "name": "stderr",
     "output_type": "stream",
     "text": [
      "/tmp/ipykernel_15306/2090331412.py:35: DeprecationWarning: The 'body' parameter is deprecated and will be removed in a future version. Instead use individual parameters.\n",
      "  result = es.search(index=\"test\", body=q, size=1000)\n"
     ]
    },
    {
     "ename": "TypeError",
     "evalue": "Elasticsearch.search() got an unexpected keyword argument 'function_score'",
     "output_type": "error",
     "traceback": [
      "\u001b[0;31m---------------------------------------------------------------------------\u001b[0m",
      "\u001b[0;31mTypeError\u001b[0m                                 Traceback (most recent call last)",
      "Cell \u001b[0;32mIn [15], line 35\u001b[0m\n\u001b[1;32m     33\u001b[0m \u001b[38;5;28;01mfor\u001b[39;00m idx, doc \u001b[38;5;129;01min\u001b[39;00m topics\u001b[38;5;241m.\u001b[39miterrows():\n\u001b[1;32m     34\u001b[0m     q \u001b[38;5;241m=\u001b[39m get_q(doc[\u001b[38;5;124m\"\u001b[39m\u001b[38;5;124mquery\u001b[39m\u001b[38;5;124m\"\u001b[39m])\n\u001b[0;32m---> 35\u001b[0m     result \u001b[38;5;241m=\u001b[39m \u001b[43mes\u001b[49m\u001b[38;5;241;43m.\u001b[39;49m\u001b[43msearch\u001b[49m\u001b[43m(\u001b[49m\u001b[43mindex\u001b[49m\u001b[38;5;241;43m=\u001b[39;49m\u001b[38;5;124;43m\"\u001b[39;49m\u001b[38;5;124;43mtest\u001b[39;49m\u001b[38;5;124;43m\"\u001b[39;49m\u001b[43m,\u001b[49m\u001b[43m \u001b[49m\u001b[43mbody\u001b[49m\u001b[38;5;241;43m=\u001b[39;49m\u001b[43mq\u001b[49m\u001b[43m,\u001b[49m\u001b[43m \u001b[49m\u001b[43msize\u001b[49m\u001b[38;5;241;43m=\u001b[39;49m\u001b[38;5;241;43m1000\u001b[39;49m\u001b[43m)\u001b[49m\n\u001b[1;32m     36\u001b[0m     hits \u001b[38;5;241m=\u001b[39m result[\u001b[38;5;124m\"\u001b[39m\u001b[38;5;124mhits\u001b[39m\u001b[38;5;124m\"\u001b[39m][\u001b[38;5;124m\"\u001b[39m\u001b[38;5;124mhits\u001b[39m\u001b[38;5;124m\"\u001b[39m]\n\u001b[1;32m     38\u001b[0m     \u001b[38;5;28;01mfor\u001b[39;00m rank, hit \u001b[38;5;129;01min\u001b[39;00m \u001b[38;5;28menumerate\u001b[39m(hits):\n",
      "File \u001b[0;32m~/pg/DIS17.1/.elastic_env/lib/python3.10/site-packages/elasticsearch/_sync/client/utils.py:414\u001b[0m, in \u001b[0;36m_rewrite_parameters.<locals>.wrapper.<locals>.wrapped\u001b[0;34m(*args, **kwargs)\u001b[0m\n\u001b[1;32m    411\u001b[0m         \u001b[38;5;28;01mexcept\u001b[39;00m \u001b[38;5;167;01mKeyError\u001b[39;00m:\n\u001b[1;32m    412\u001b[0m             \u001b[38;5;28;01mpass\u001b[39;00m\n\u001b[0;32m--> 414\u001b[0m \u001b[38;5;28;01mreturn\u001b[39;00m \u001b[43mapi\u001b[49m\u001b[43m(\u001b[49m\u001b[38;5;241;43m*\u001b[39;49m\u001b[43margs\u001b[49m\u001b[43m,\u001b[49m\u001b[43m \u001b[49m\u001b[38;5;241;43m*\u001b[39;49m\u001b[38;5;241;43m*\u001b[39;49m\u001b[43mkwargs\u001b[49m\u001b[43m)\u001b[49m\n",
      "\u001b[0;31mTypeError\u001b[0m: Elasticsearch.search() got an unexpected keyword argument 'function_score'"
     ]
    }
   ],
   "source": [
    "def get_q(search_text: str):\n",
    "    q = {\n",
    "        \"function_score\": {\n",
    "        \"query\": {\n",
    "            \"multi_match\": {\n",
    "                    \"query\": f\"{search_text}\",\n",
    "                    \"type\": \"cross_fields\",\n",
    "                    \"fields\": [\n",
    "                        \"source_x\",\n",
    "                        \"title^3\",\n",
    "                        \"abstract^2\",\n",
    "                        \"journal\",\n",
    "                        \"authors\"\n",
    "                ]},\n",
    "            \"functions\": [\n",
    "                {\n",
    "                    \"gauss\": {\n",
    "                    \"publish_time\": {\n",
    "                        \"origin\": datetime.strftime(datetime.now(), \"%Y-%m-%d\"),\n",
    "                        \"scale\": \"100Y\",\n",
    "                        \"offset\": \"3Y\",\n",
    "                        \"decay\": 0.2\n",
    "                    }\n",
    "                }}]\n",
    "            }\n",
    "        }}\n",
    "        \n",
    "\n",
    "    return q\n",
    "\n",
    "run = \"no_operator\" + datetime.strftime(datetime.now(), \"%d.%m-%H:%M\")\n",
    "with open(f\"data/runs/{run}.txt\", \"w\") as f:\n",
    "    for idx, doc in topics.iterrows():\n",
    "        q = get_q(doc[\"query\"])\n",
    "        result = es.search(index=\"test\", body=q, size=1000)\n",
    "        hits = result[\"hits\"][\"hits\"]\n",
    "\n",
    "        for rank, hit in enumerate(hits):\n",
    "            f.write(\" \".join([str(idx), str(0), hit[\"_source\"][\"cord_uid\"], str(rank), str(hit[\"_score\"]), run, \"\\n\"]))"
   ]
  },
  {
   "cell_type": "markdown",
   "id": "17aa3cd8-9d41-4899-aa40-c815c8b1a1c1",
   "metadata": {},
   "source": [
    "### Trec eval"
   ]
  },
  {
   "cell_type": "markdown",
   "id": "817deea5-cdd0-43c0-8cf0-a6252c04cf20",
   "metadata": {},
   "source": [
    "If trec_eval is in /usr/local/bin"
   ]
  },
  {
   "cell_type": "code",
   "execution_count": 49,
   "id": "a111ad09-fc09-4cc1-a8d0-9cb7ba5be70a",
   "metadata": {},
   "outputs": [
    {
     "name": "stdout",
     "output_type": "stream",
     "text": [
      "runid                 \tall\tno_operator26.11-13:06\n",
      "num_q                 \tall\t50\n",
      "num_ret               \tall\t50000\n",
      "num_rel               \tall\t26664\n",
      "num_rel_ret           \tall\t9832\n",
      "map                   \tall\t0.1865\n",
      "gm_map                \tall\t0.1000\n",
      "Rprec                 \tall\t0.2802\n",
      "bpref                 \tall\t0.3220\n",
      "recip_rank            \tall\t0.7837\n",
      "iprec_at_recall_0.00  \tall\t0.8473\n",
      "iprec_at_recall_0.10  \tall\t0.4703\n",
      "iprec_at_recall_0.20  \tall\t0.3778\n",
      "iprec_at_recall_0.30  \tall\t0.2758\n",
      "iprec_at_recall_0.40  \tall\t0.2050\n",
      "iprec_at_recall_0.50  \tall\t0.1455\n",
      "iprec_at_recall_0.60  \tall\t0.0716\n",
      "iprec_at_recall_0.70  \tall\t0.0193\n",
      "iprec_at_recall_0.80  \tall\t0.0071\n",
      "iprec_at_recall_0.90  \tall\t0.0000\n",
      "iprec_at_recall_1.00  \tall\t0.0000\n",
      "P_5                   \tall\t0.6160\n",
      "P_10                  \tall\t0.6240\n",
      "P_15                  \tall\t0.6067\n",
      "P_20                  \tall\t0.5780\n",
      "P_30                  \tall\t0.5587\n",
      "P_100                 \tall\t0.4646\n",
      "P_200                 \tall\t0.3929\n",
      "P_500                 \tall\t0.2814\n",
      "P_1000                \tall\t0.1966\n"
     ]
    }
   ],
   "source": [
    "!trec_eval data/qrels-covid_d5_j0.5-5_covid-complete.txt data/runs/no_operator26.11-13\\:06.txt"
   ]
  },
  {
   "cell_type": "code",
   "execution_count": 50,
   "id": "de58e04b-e866-4397-9d50-b7d396303ffc",
   "metadata": {},
   "outputs": [
    {
     "name": "stdout",
     "output_type": "stream",
     "text": [
      "runid                 \tall\tbaseline\n",
      "num_q                 \tall\t50\n",
      "num_ret               \tall\t50000\n",
      "num_rel               \tall\t26664\n",
      "num_rel_ret           \tall\t9420\n",
      "map                   \tall\t0.1645\n",
      "gm_map                \tall\t0.0846\n",
      "Rprec                 \tall\t0.2688\n",
      "bpref                 \tall\t0.3101\n",
      "recip_rank            \tall\t0.6215\n",
      "iprec_at_recall_0.00  \tall\t0.7414\n",
      "iprec_at_recall_0.10  \tall\t0.4357\n",
      "iprec_at_recall_0.20  \tall\t0.3546\n",
      "iprec_at_recall_0.30  \tall\t0.2389\n",
      "iprec_at_recall_0.40  \tall\t0.1804\n",
      "iprec_at_recall_0.50  \tall\t0.1102\n",
      "iprec_at_recall_0.60  \tall\t0.0598\n",
      "iprec_at_recall_0.70  \tall\t0.0173\n",
      "iprec_at_recall_0.80  \tall\t0.0062\n",
      "iprec_at_recall_0.90  \tall\t0.0000\n",
      "iprec_at_recall_1.00  \tall\t0.0000\n",
      "P_5                   \tall\t0.5120\n",
      "P_10                  \tall\t0.5100\n",
      "P_15                  \tall\t0.4640\n",
      "P_20                  \tall\t0.4520\n",
      "P_30                  \tall\t0.4453\n",
      "P_100                 \tall\t0.4200\n",
      "P_200                 \tall\t0.3678\n",
      "P_500                 \tall\t0.2677\n",
      "P_1000                \tall\t0.1884\n"
     ]
    }
   ],
   "source": [
    "!trec_eval data/qrels-covid_d5_j0.5-5_covid-complete.txt data/runs/baseline.txt"
   ]
  },
  {
   "cell_type": "code",
   "execution_count": null,
   "id": "a1e004ee-e32c-43e7-b08f-92996786e268",
   "metadata": {},
   "outputs": [],
   "source": []
  }
 ],
 "metadata": {
  "kernelspec": {
   "display_name": ".elastic_env",
   "language": "python",
   "name": ".elastic_env"
  },
  "language_info": {
   "codemirror_mode": {
    "name": "ipython",
    "version": 3
   },
   "file_extension": ".py",
   "mimetype": "text/x-python",
   "name": "python",
   "nbconvert_exporter": "python",
   "pygments_lexer": "ipython3",
   "version": "3.10.7"
  }
 },
 "nbformat": 4,
 "nbformat_minor": 5
}
