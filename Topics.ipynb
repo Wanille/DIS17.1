{
 "cells": [
  {
   "cell_type": "markdown",
   "id": "572bff9e-373e-4e08-8775-d33846e88ab0",
   "metadata": {},
   "source": [
    "## Search queries from Topics"
   ]
  },
  {
   "cell_type": "markdown",
   "id": "5260447c-0819-4870-b2ee-7f259a96e478",
   "metadata": {},
   "source": [
    "### imports"
   ]
  },
  {
   "cell_type": "code",
   "execution_count": 147,
   "id": "02604a83-1a9b-4d45-af0b-fd2bcf8f7cd1",
   "metadata": {},
   "outputs": [],
   "source": [
    "import pandas as pd\n",
    "from elasticsearch import Elasticsearch\n",
    "from credentials import username, password"
   ]
  },
  {
   "cell_type": "markdown",
   "id": "845d5ffc-46cb-421d-bb70-9c7a60b251e2",
   "metadata": {},
   "source": [
    "### Read information need from xlm file"
   ]
  },
  {
   "cell_type": "code",
   "execution_count": 148,
   "id": "a5c7f8c2-3046-449d-b5d4-fc10d6dd1cd8",
   "metadata": {},
   "outputs": [],
   "source": [
    "xml_filepath = \"data/topics-rnd5_covid-complete.xml\"\n",
    "topics = pd.read_xml(xml_filepath)"
   ]
  },
  {
   "cell_type": "code",
   "execution_count": 149,
   "id": "7845e61b-ff77-4675-a623-c644e7906b8b",
   "metadata": {},
   "outputs": [],
   "source": [
    "# set index to number\n",
    "topics.set_index(\"number\", inplace=True)"
   ]
  },
  {
   "cell_type": "code",
   "execution_count": 150,
   "id": "6660bcd3-d021-473e-b059-2234bd61a305",
   "metadata": {},
   "outputs": [
    {
     "data": {
      "text/html": [
       "<div>\n",
       "<style scoped>\n",
       "    .dataframe tbody tr th:only-of-type {\n",
       "        vertical-align: middle;\n",
       "    }\n",
       "\n",
       "    .dataframe tbody tr th {\n",
       "        vertical-align: top;\n",
       "    }\n",
       "\n",
       "    .dataframe thead th {\n",
       "        text-align: right;\n",
       "    }\n",
       "</style>\n",
       "<table border=\"1\" class=\"dataframe\">\n",
       "  <thead>\n",
       "    <tr style=\"text-align: right;\">\n",
       "      <th></th>\n",
       "      <th>query</th>\n",
       "      <th>question</th>\n",
       "      <th>narrative</th>\n",
       "    </tr>\n",
       "    <tr>\n",
       "      <th>number</th>\n",
       "      <th></th>\n",
       "      <th></th>\n",
       "      <th></th>\n",
       "    </tr>\n",
       "  </thead>\n",
       "  <tbody>\n",
       "    <tr>\n",
       "      <th>1</th>\n",
       "      <td>coronavirus origin</td>\n",
       "      <td>what is the origin of COVID-19</td>\n",
       "      <td>seeking range of information about the SARS-Co...</td>\n",
       "    </tr>\n",
       "    <tr>\n",
       "      <th>2</th>\n",
       "      <td>coronavirus response to weather changes</td>\n",
       "      <td>how does the coronavirus respond to changes in...</td>\n",
       "      <td>seeking range of information about the SARS-Co...</td>\n",
       "    </tr>\n",
       "    <tr>\n",
       "      <th>3</th>\n",
       "      <td>coronavirus immunity</td>\n",
       "      <td>will SARS-CoV2 infected people develop immunit...</td>\n",
       "      <td>seeking studies of immunity developed due to i...</td>\n",
       "    </tr>\n",
       "    <tr>\n",
       "      <th>4</th>\n",
       "      <td>how do people die from the coronavirus</td>\n",
       "      <td>what causes death from Covid-19?</td>\n",
       "      <td>Studies looking at mechanisms of death from Co...</td>\n",
       "    </tr>\n",
       "    <tr>\n",
       "      <th>5</th>\n",
       "      <td>animal models of COVID-19</td>\n",
       "      <td>what drugs have been active against SARS-CoV o...</td>\n",
       "      <td>Papers that describe the results  of testing d...</td>\n",
       "    </tr>\n",
       "    <tr>\n",
       "      <th>6</th>\n",
       "      <td>coronavirus test rapid testing</td>\n",
       "      <td>what types of rapid testing for Covid-19 have ...</td>\n",
       "      <td>Looking for studies identifying ways to diagno...</td>\n",
       "    </tr>\n",
       "    <tr>\n",
       "      <th>7</th>\n",
       "      <td>serological tests for coronavirus</td>\n",
       "      <td>are there serological tests that detect antibo...</td>\n",
       "      <td>Looking for assays that measure immune respons...</td>\n",
       "    </tr>\n",
       "    <tr>\n",
       "      <th>8</th>\n",
       "      <td>coronavirus under reporting</td>\n",
       "      <td>how has lack of testing availability led to un...</td>\n",
       "      <td>Looking for studies answering questions of imp...</td>\n",
       "    </tr>\n",
       "    <tr>\n",
       "      <th>9</th>\n",
       "      <td>coronavirus in Canada</td>\n",
       "      <td>how has COVID-19 affected Canada</td>\n",
       "      <td>seeking data related to infections (confirm, s...</td>\n",
       "    </tr>\n",
       "    <tr>\n",
       "      <th>10</th>\n",
       "      <td>coronavirus social distancing impact</td>\n",
       "      <td>has social distancing had an impact on slowing...</td>\n",
       "      <td>seeking specific information on studies that h...</td>\n",
       "    </tr>\n",
       "  </tbody>\n",
       "</table>\n",
       "</div>"
      ],
      "text/plain": [
       "                                          query  \\\n",
       "number                                            \n",
       "1                            coronavirus origin   \n",
       "2       coronavirus response to weather changes   \n",
       "3                          coronavirus immunity   \n",
       "4        how do people die from the coronavirus   \n",
       "5                     animal models of COVID-19   \n",
       "6                coronavirus test rapid testing   \n",
       "7             serological tests for coronavirus   \n",
       "8                   coronavirus under reporting   \n",
       "9                         coronavirus in Canada   \n",
       "10         coronavirus social distancing impact   \n",
       "\n",
       "                                                 question  \\\n",
       "number                                                      \n",
       "1                          what is the origin of COVID-19   \n",
       "2       how does the coronavirus respond to changes in...   \n",
       "3       will SARS-CoV2 infected people develop immunit...   \n",
       "4                        what causes death from Covid-19?   \n",
       "5       what drugs have been active against SARS-CoV o...   \n",
       "6       what types of rapid testing for Covid-19 have ...   \n",
       "7       are there serological tests that detect antibo...   \n",
       "8       how has lack of testing availability led to un...   \n",
       "9                        how has COVID-19 affected Canada   \n",
       "10      has social distancing had an impact on slowing...   \n",
       "\n",
       "                                                narrative  \n",
       "number                                                     \n",
       "1       seeking range of information about the SARS-Co...  \n",
       "2       seeking range of information about the SARS-Co...  \n",
       "3       seeking studies of immunity developed due to i...  \n",
       "4       Studies looking at mechanisms of death from Co...  \n",
       "5       Papers that describe the results  of testing d...  \n",
       "6       Looking for studies identifying ways to diagno...  \n",
       "7       Looking for assays that measure immune respons...  \n",
       "8       Looking for studies answering questions of imp...  \n",
       "9       seeking data related to infections (confirm, s...  \n",
       "10      seeking specific information on studies that h...  "
      ]
     },
     "execution_count": 150,
     "metadata": {},
     "output_type": "execute_result"
    }
   ],
   "source": [
    "topics.head(10)"
   ]
  },
  {
   "cell_type": "markdown",
   "id": "40535765-647a-46d6-b9c7-286e2266734b",
   "metadata": {},
   "source": [
    "### Get elasticsearch instance"
   ]
  },
  {
   "cell_type": "code",
   "execution_count": 153,
   "id": "69eb6e02-3c5e-4844-975c-a19d99eafbc7",
   "metadata": {},
   "outputs": [],
   "source": [
    "es = Elasticsearch(\"http://localhost:9200\",\n",
    "                   basic_auth=(username, password))"
   ]
  },
  {
   "cell_type": "code",
   "execution_count": 154,
   "id": "45577267-81ff-4278-b591-494e6f76dbf6",
   "metadata": {},
   "outputs": [],
   "source": [
    "run = \"baseline\"\n",
    "with open(f\"data/runs/{run}.txt\", \"w\") as f:\n",
    "    for idx, doc in topics.iterrows():\n",
    "        q = doc[\"query\"]\n",
    "        result = es.search(index=\"default_unique\", q=q, size=1000)\n",
    "        hits = result[\"hits\"][\"hits\"]\n",
    "\n",
    "        for rank, hit in enumerate(hits):\n",
    "            f.write(\" \".join([str(idx), str(0), hit[\"_source\"][\"cord_uid\"], str(rank), str(hit[\"_score\"]), run, \"\\n\"]))"
   ]
  },
  {
   "cell_type": "code",
   "execution_count": null,
   "id": "7d29ed99-d479-4fcc-aea0-ef66afa50536",
   "metadata": {},
   "outputs": [],
   "source": []
  }
 ],
 "metadata": {
  "kernelspec": {
   "display_name": ".elastic_env",
   "language": "python",
   "name": ".elastic_env"
  },
  "language_info": {
   "codemirror_mode": {
    "name": "ipython",
    "version": 3
   },
   "file_extension": ".py",
   "mimetype": "text/x-python",
   "name": "python",
   "nbconvert_exporter": "python",
   "pygments_lexer": "ipython3",
   "version": "3.10.6"
  }
 },
 "nbformat": 4,
 "nbformat_minor": 5
}
